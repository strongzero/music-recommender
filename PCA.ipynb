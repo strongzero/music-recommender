{
 "cells": [
  {
   "cell_type": "code",
   "execution_count": 1,
   "metadata": {},
   "outputs": [],
   "source": [
    "import pandas as pd\n",
    "import numpy as np\n",
    "import librosa\n",
    "import matplotlib.pyplot as plt\n",
    "import librosa.display\n",
    "from IPython.display import Audio\n",
    "import os\n",
    "import re\n",
    "\n",
    "from keras.preprocessing.image import load_img \n",
    "from keras.preprocessing.image import img_to_array \n",
    "from keras.applications.vgg16 import preprocess_input \n",
    "\n",
    "from keras.applications.vgg16 import VGG16 \n",
    "from keras.models import Model\n",
    "\n",
    "from sklearn.cluster import KMeans\n",
    "from sklearn.decomposition import PCA\n",
    "\n",
    "import pickle\n",
    "import seaborn as sns\n",
    "\n",
    "from sklearn.preprocessing import StandardScaler"
   ]
  },
  {
   "cell_type": "code",
   "execution_count": 2,
   "metadata": {},
   "outputs": [],
   "source": [
    "path = '/Users/shoheisuzuki/workspace/euclidean-eukalyptus/work/music-recommendation/Spectogram_Images/'\n",
    "# change the working directory to the path where the images are located\n",
    "os.chdir(path)\n",
    "\n",
    "songs = []\n",
    "# creates a ScandirIterator aliased as files\n",
    "with os.scandir(path) as files:\n",
    "  # loops through each file in the directory\n",
    "    for file in files:\n",
    "        if file.name.endswith('.png'):\n",
    "          # adds only the image files to the flowers list\n",
    "            songs.append(file.name)"
   ]
  },
  {
   "cell_type": "code",
   "execution_count": 4,
   "metadata": {},
   "outputs": [],
   "source": [
    "with open(r'/Users/shoheisuzuki/workspace/euclidean-eukalyptus/work/music-recommendation/model/audio_features.pkl', 'rb') as file:\n",
    "    data = pickle.load(file)"
   ]
  },
  {
   "cell_type": "code",
   "execution_count": 5,
   "metadata": {},
   "outputs": [
    {
     "data": {
      "text/plain": [
       "(4834, 4096)"
      ]
     },
     "execution_count": 5,
     "metadata": {},
     "output_type": "execute_result"
    }
   ],
   "source": [
    "# get a list of the filenames\n",
    "filenames = np.array(list(data.keys()))\n",
    "\n",
    "# get a list of just the features\n",
    "feature = np.array(list(data.values()))\n",
    "feature.shape\n",
    "# (210, 1, 4096)\n",
    "\n",
    "# reshape so that there are 210 samples of 4096 vectors\n",
    "feature = feature.reshape(-1,4096)\n",
    "feature.shape\n",
    "\n",
    "# # get the unique labels (from the flower_labels.csv)\n",
    "# df = pd.read_csv('flower_labels.csv')\n",
    "# label = df['label'].tolist()\n",
    "# unique_labels = list(set(label))"
   ]
  },
  {
   "cell_type": "code",
   "execution_count": 6,
   "metadata": {},
   "outputs": [
    {
     "data": {
      "text/plain": [
       "array([[0.        , 0.27688515, 0.        , ..., 1.9151807 , 0.        ,\n",
       "        0.        ],\n",
       "       [0.        , 2.6396756 , 0.        , ..., 0.        , 0.        ,\n",
       "        0.        ],\n",
       "       [0.        , 2.4752893 , 0.        , ..., 0.97800446, 0.        ,\n",
       "        0.        ],\n",
       "       ...,\n",
       "       [0.        , 2.3806176 , 0.        , ..., 1.444176  , 0.        ,\n",
       "        0.        ],\n",
       "       [0.        , 2.6879911 , 0.        , ..., 2.1829455 , 0.        ,\n",
       "        0.        ],\n",
       "       [0.        , 2.410195  , 0.7575766 , ..., 0.54020345, 0.        ,\n",
       "        0.        ]], dtype=float32)"
      ]
     },
     "execution_count": 6,
     "metadata": {},
     "output_type": "execute_result"
    }
   ],
   "source": [
    "feature"
   ]
  },
  {
   "cell_type": "code",
   "execution_count": 7,
   "metadata": {},
   "outputs": [
    {
     "data": {
      "text/html": [
       "<div>\n",
       "<style scoped>\n",
       "    .dataframe tbody tr th:only-of-type {\n",
       "        vertical-align: middle;\n",
       "    }\n",
       "\n",
       "    .dataframe tbody tr th {\n",
       "        vertical-align: top;\n",
       "    }\n",
       "\n",
       "    .dataframe thead th {\n",
       "        text-align: right;\n",
       "    }\n",
       "</style>\n",
       "<table border=\"1\" class=\"dataframe\">\n",
       "  <thead>\n",
       "    <tr style=\"text-align: right;\">\n",
       "      <th></th>\n",
       "      <th>0</th>\n",
       "      <th>1</th>\n",
       "      <th>2</th>\n",
       "      <th>3</th>\n",
       "      <th>4</th>\n",
       "      <th>5</th>\n",
       "      <th>6</th>\n",
       "      <th>7</th>\n",
       "      <th>8</th>\n",
       "      <th>9</th>\n",
       "      <th>...</th>\n",
       "      <th>4086</th>\n",
       "      <th>4087</th>\n",
       "      <th>4088</th>\n",
       "      <th>4089</th>\n",
       "      <th>4090</th>\n",
       "      <th>4091</th>\n",
       "      <th>4092</th>\n",
       "      <th>4093</th>\n",
       "      <th>4094</th>\n",
       "      <th>4095</th>\n",
       "    </tr>\n",
       "  </thead>\n",
       "  <tbody>\n",
       "    <tr>\n",
       "      <th>0</th>\n",
       "      <td>0.0</td>\n",
       "      <td>0.276885</td>\n",
       "      <td>0.000000</td>\n",
       "      <td>0.525118</td>\n",
       "      <td>1.358259</td>\n",
       "      <td>0.0</td>\n",
       "      <td>5.603625</td>\n",
       "      <td>0.0</td>\n",
       "      <td>0.0</td>\n",
       "      <td>0.0</td>\n",
       "      <td>...</td>\n",
       "      <td>4.632590</td>\n",
       "      <td>0.0</td>\n",
       "      <td>0.000000</td>\n",
       "      <td>0.000000</td>\n",
       "      <td>2.574090</td>\n",
       "      <td>5.254221</td>\n",
       "      <td>0.0</td>\n",
       "      <td>1.915181</td>\n",
       "      <td>0.0</td>\n",
       "      <td>0.0</td>\n",
       "    </tr>\n",
       "    <tr>\n",
       "      <th>1</th>\n",
       "      <td>0.0</td>\n",
       "      <td>2.639676</td>\n",
       "      <td>0.000000</td>\n",
       "      <td>1.443202</td>\n",
       "      <td>1.828559</td>\n",
       "      <td>0.0</td>\n",
       "      <td>5.724163</td>\n",
       "      <td>0.0</td>\n",
       "      <td>0.0</td>\n",
       "      <td>0.0</td>\n",
       "      <td>...</td>\n",
       "      <td>4.982517</td>\n",
       "      <td>0.0</td>\n",
       "      <td>0.000000</td>\n",
       "      <td>0.223240</td>\n",
       "      <td>3.025865</td>\n",
       "      <td>4.277346</td>\n",
       "      <td>0.0</td>\n",
       "      <td>0.000000</td>\n",
       "      <td>0.0</td>\n",
       "      <td>0.0</td>\n",
       "    </tr>\n",
       "    <tr>\n",
       "      <th>2</th>\n",
       "      <td>0.0</td>\n",
       "      <td>2.475289</td>\n",
       "      <td>0.000000</td>\n",
       "      <td>1.703385</td>\n",
       "      <td>1.551151</td>\n",
       "      <td>0.0</td>\n",
       "      <td>4.414777</td>\n",
       "      <td>0.0</td>\n",
       "      <td>0.0</td>\n",
       "      <td>0.0</td>\n",
       "      <td>...</td>\n",
       "      <td>4.316081</td>\n",
       "      <td>0.0</td>\n",
       "      <td>0.000000</td>\n",
       "      <td>0.689943</td>\n",
       "      <td>3.871218</td>\n",
       "      <td>4.733443</td>\n",
       "      <td>0.0</td>\n",
       "      <td>0.978004</td>\n",
       "      <td>0.0</td>\n",
       "      <td>0.0</td>\n",
       "    </tr>\n",
       "    <tr>\n",
       "      <th>3</th>\n",
       "      <td>0.0</td>\n",
       "      <td>1.155072</td>\n",
       "      <td>0.000000</td>\n",
       "      <td>0.213467</td>\n",
       "      <td>2.855101</td>\n",
       "      <td>0.0</td>\n",
       "      <td>5.501060</td>\n",
       "      <td>0.0</td>\n",
       "      <td>0.0</td>\n",
       "      <td>0.0</td>\n",
       "      <td>...</td>\n",
       "      <td>5.347623</td>\n",
       "      <td>0.0</td>\n",
       "      <td>0.000000</td>\n",
       "      <td>0.847612</td>\n",
       "      <td>4.460057</td>\n",
       "      <td>5.816047</td>\n",
       "      <td>0.0</td>\n",
       "      <td>1.786599</td>\n",
       "      <td>0.0</td>\n",
       "      <td>0.0</td>\n",
       "    </tr>\n",
       "    <tr>\n",
       "      <th>4</th>\n",
       "      <td>0.0</td>\n",
       "      <td>1.419908</td>\n",
       "      <td>0.000000</td>\n",
       "      <td>0.596359</td>\n",
       "      <td>0.921858</td>\n",
       "      <td>0.0</td>\n",
       "      <td>6.341099</td>\n",
       "      <td>0.0</td>\n",
       "      <td>0.0</td>\n",
       "      <td>0.0</td>\n",
       "      <td>...</td>\n",
       "      <td>4.390624</td>\n",
       "      <td>0.0</td>\n",
       "      <td>0.000000</td>\n",
       "      <td>0.000000</td>\n",
       "      <td>3.033546</td>\n",
       "      <td>6.367900</td>\n",
       "      <td>0.0</td>\n",
       "      <td>0.749969</td>\n",
       "      <td>0.0</td>\n",
       "      <td>0.0</td>\n",
       "    </tr>\n",
       "    <tr>\n",
       "      <th>...</th>\n",
       "      <td>...</td>\n",
       "      <td>...</td>\n",
       "      <td>...</td>\n",
       "      <td>...</td>\n",
       "      <td>...</td>\n",
       "      <td>...</td>\n",
       "      <td>...</td>\n",
       "      <td>...</td>\n",
       "      <td>...</td>\n",
       "      <td>...</td>\n",
       "      <td>...</td>\n",
       "      <td>...</td>\n",
       "      <td>...</td>\n",
       "      <td>...</td>\n",
       "      <td>...</td>\n",
       "      <td>...</td>\n",
       "      <td>...</td>\n",
       "      <td>...</td>\n",
       "      <td>...</td>\n",
       "      <td>...</td>\n",
       "      <td>...</td>\n",
       "    </tr>\n",
       "    <tr>\n",
       "      <th>4829</th>\n",
       "      <td>0.0</td>\n",
       "      <td>1.134456</td>\n",
       "      <td>0.000000</td>\n",
       "      <td>1.257037</td>\n",
       "      <td>1.926351</td>\n",
       "      <td>0.0</td>\n",
       "      <td>6.060061</td>\n",
       "      <td>0.0</td>\n",
       "      <td>0.0</td>\n",
       "      <td>0.0</td>\n",
       "      <td>...</td>\n",
       "      <td>3.980004</td>\n",
       "      <td>0.0</td>\n",
       "      <td>0.000000</td>\n",
       "      <td>0.593295</td>\n",
       "      <td>3.709148</td>\n",
       "      <td>6.243112</td>\n",
       "      <td>0.0</td>\n",
       "      <td>1.915098</td>\n",
       "      <td>0.0</td>\n",
       "      <td>0.0</td>\n",
       "    </tr>\n",
       "    <tr>\n",
       "      <th>4830</th>\n",
       "      <td>0.0</td>\n",
       "      <td>0.763911</td>\n",
       "      <td>0.000000</td>\n",
       "      <td>0.350312</td>\n",
       "      <td>2.407132</td>\n",
       "      <td>0.0</td>\n",
       "      <td>5.330967</td>\n",
       "      <td>0.0</td>\n",
       "      <td>0.0</td>\n",
       "      <td>0.0</td>\n",
       "      <td>...</td>\n",
       "      <td>4.757872</td>\n",
       "      <td>0.0</td>\n",
       "      <td>0.000000</td>\n",
       "      <td>0.071882</td>\n",
       "      <td>3.476911</td>\n",
       "      <td>5.220980</td>\n",
       "      <td>0.0</td>\n",
       "      <td>1.952804</td>\n",
       "      <td>0.0</td>\n",
       "      <td>0.0</td>\n",
       "    </tr>\n",
       "    <tr>\n",
       "      <th>4831</th>\n",
       "      <td>0.0</td>\n",
       "      <td>2.380618</td>\n",
       "      <td>0.000000</td>\n",
       "      <td>1.237662</td>\n",
       "      <td>0.482639</td>\n",
       "      <td>0.0</td>\n",
       "      <td>7.054648</td>\n",
       "      <td>0.0</td>\n",
       "      <td>0.0</td>\n",
       "      <td>0.0</td>\n",
       "      <td>...</td>\n",
       "      <td>4.733780</td>\n",
       "      <td>0.0</td>\n",
       "      <td>0.000000</td>\n",
       "      <td>1.614663</td>\n",
       "      <td>4.179696</td>\n",
       "      <td>7.504448</td>\n",
       "      <td>0.0</td>\n",
       "      <td>1.444176</td>\n",
       "      <td>0.0</td>\n",
       "      <td>0.0</td>\n",
       "    </tr>\n",
       "    <tr>\n",
       "      <th>4832</th>\n",
       "      <td>0.0</td>\n",
       "      <td>2.687991</td>\n",
       "      <td>0.000000</td>\n",
       "      <td>1.338039</td>\n",
       "      <td>0.954078</td>\n",
       "      <td>0.0</td>\n",
       "      <td>4.751172</td>\n",
       "      <td>0.0</td>\n",
       "      <td>0.0</td>\n",
       "      <td>0.0</td>\n",
       "      <td>...</td>\n",
       "      <td>5.132657</td>\n",
       "      <td>0.0</td>\n",
       "      <td>0.000000</td>\n",
       "      <td>0.000000</td>\n",
       "      <td>2.285458</td>\n",
       "      <td>3.959879</td>\n",
       "      <td>0.0</td>\n",
       "      <td>2.182945</td>\n",
       "      <td>0.0</td>\n",
       "      <td>0.0</td>\n",
       "    </tr>\n",
       "    <tr>\n",
       "      <th>4833</th>\n",
       "      <td>0.0</td>\n",
       "      <td>2.410195</td>\n",
       "      <td>0.757577</td>\n",
       "      <td>0.154139</td>\n",
       "      <td>0.000000</td>\n",
       "      <td>0.0</td>\n",
       "      <td>5.577830</td>\n",
       "      <td>0.0</td>\n",
       "      <td>0.0</td>\n",
       "      <td>0.0</td>\n",
       "      <td>...</td>\n",
       "      <td>3.618307</td>\n",
       "      <td>0.0</td>\n",
       "      <td>0.124246</td>\n",
       "      <td>0.000000</td>\n",
       "      <td>2.146846</td>\n",
       "      <td>3.534673</td>\n",
       "      <td>0.0</td>\n",
       "      <td>0.540203</td>\n",
       "      <td>0.0</td>\n",
       "      <td>0.0</td>\n",
       "    </tr>\n",
       "  </tbody>\n",
       "</table>\n",
       "<p>4834 rows × 4096 columns</p>\n",
       "</div>"
      ],
      "text/plain": [
       "      0         1         2         3         4     5         6     7     \\\n",
       "0      0.0  0.276885  0.000000  0.525118  1.358259   0.0  5.603625   0.0   \n",
       "1      0.0  2.639676  0.000000  1.443202  1.828559   0.0  5.724163   0.0   \n",
       "2      0.0  2.475289  0.000000  1.703385  1.551151   0.0  4.414777   0.0   \n",
       "3      0.0  1.155072  0.000000  0.213467  2.855101   0.0  5.501060   0.0   \n",
       "4      0.0  1.419908  0.000000  0.596359  0.921858   0.0  6.341099   0.0   \n",
       "...    ...       ...       ...       ...       ...   ...       ...   ...   \n",
       "4829   0.0  1.134456  0.000000  1.257037  1.926351   0.0  6.060061   0.0   \n",
       "4830   0.0  0.763911  0.000000  0.350312  2.407132   0.0  5.330967   0.0   \n",
       "4831   0.0  2.380618  0.000000  1.237662  0.482639   0.0  7.054648   0.0   \n",
       "4832   0.0  2.687991  0.000000  1.338039  0.954078   0.0  4.751172   0.0   \n",
       "4833   0.0  2.410195  0.757577  0.154139  0.000000   0.0  5.577830   0.0   \n",
       "\n",
       "      8     9     ...      4086  4087      4088      4089      4090      4091  \\\n",
       "0      0.0   0.0  ...  4.632590   0.0  0.000000  0.000000  2.574090  5.254221   \n",
       "1      0.0   0.0  ...  4.982517   0.0  0.000000  0.223240  3.025865  4.277346   \n",
       "2      0.0   0.0  ...  4.316081   0.0  0.000000  0.689943  3.871218  4.733443   \n",
       "3      0.0   0.0  ...  5.347623   0.0  0.000000  0.847612  4.460057  5.816047   \n",
       "4      0.0   0.0  ...  4.390624   0.0  0.000000  0.000000  3.033546  6.367900   \n",
       "...    ...   ...  ...       ...   ...       ...       ...       ...       ...   \n",
       "4829   0.0   0.0  ...  3.980004   0.0  0.000000  0.593295  3.709148  6.243112   \n",
       "4830   0.0   0.0  ...  4.757872   0.0  0.000000  0.071882  3.476911  5.220980   \n",
       "4831   0.0   0.0  ...  4.733780   0.0  0.000000  1.614663  4.179696  7.504448   \n",
       "4832   0.0   0.0  ...  5.132657   0.0  0.000000  0.000000  2.285458  3.959879   \n",
       "4833   0.0   0.0  ...  3.618307   0.0  0.124246  0.000000  2.146846  3.534673   \n",
       "\n",
       "      4092      4093  4094  4095  \n",
       "0      0.0  1.915181   0.0   0.0  \n",
       "1      0.0  0.000000   0.0   0.0  \n",
       "2      0.0  0.978004   0.0   0.0  \n",
       "3      0.0  1.786599   0.0   0.0  \n",
       "4      0.0  0.749969   0.0   0.0  \n",
       "...    ...       ...   ...   ...  \n",
       "4829   0.0  1.915098   0.0   0.0  \n",
       "4830   0.0  1.952804   0.0   0.0  \n",
       "4831   0.0  1.444176   0.0   0.0  \n",
       "4832   0.0  2.182945   0.0   0.0  \n",
       "4833   0.0  0.540203   0.0   0.0  \n",
       "\n",
       "[4834 rows x 4096 columns]"
      ]
     },
     "execution_count": 7,
     "metadata": {},
     "output_type": "execute_result"
    }
   ],
   "source": [
    "df = pd.DataFrame(data=feature)\n",
    "df"
   ]
  },
  {
   "cell_type": "code",
   "execution_count": 8,
   "metadata": {},
   "outputs": [],
   "source": [
    "scaler = StandardScaler()\n",
    "df = scaler.fit_transform(df)"
   ]
  },
  {
   "cell_type": "code",
   "execution_count": 9,
   "metadata": {},
   "outputs": [],
   "source": [
    "cov_matrix = np.cov(df, rowvar=False)"
   ]
  },
  {
   "cell_type": "code",
   "execution_count": 10,
   "metadata": {},
   "outputs": [],
   "source": [
    "# sns.heatmap(cov_matrix, cmap=sns.color_palette(\"vlag\", as_cmap=True), annot=True)"
   ]
  },
  {
   "cell_type": "code",
   "execution_count": 11,
   "metadata": {},
   "outputs": [],
   "source": [
    "eigenvalues, eigenvectors = np.linalg.eigh(cov_matrix)"
   ]
  },
  {
   "cell_type": "code",
   "execution_count": 12,
   "metadata": {},
   "outputs": [],
   "source": [
    "sorted_index = np.argsort(eigenvalues)[::-1]"
   ]
  },
  {
   "cell_type": "code",
   "execution_count": 13,
   "metadata": {},
   "outputs": [],
   "source": [
    "sorted_eigenvalues = eigenvalues[sorted_index]\n",
    "sorted_eigenvectors = eigenvectors[:,sorted_index]"
   ]
  },
  {
   "cell_type": "code",
   "execution_count": 14,
   "metadata": {},
   "outputs": [
    {
     "data": {
      "text/plain": [
       "array([ 3.24296043e+02,  2.00791454e+02,  1.63453403e+02, ...,\n",
       "       -1.20829556e-14, -1.83988348e-14, -2.33848754e-14])"
      ]
     },
     "execution_count": 14,
     "metadata": {},
     "output_type": "execute_result"
    }
   ],
   "source": [
    "sorted_eigenvalues"
   ]
  },
  {
   "cell_type": "code",
   "execution_count": 15,
   "metadata": {},
   "outputs": [
    {
     "data": {
      "image/png": "[encoded data removed]",
      "text/plain": [
       "<Figure size 3600x576 with 1 Axes>"
      ]
     },
     "metadata": {
      "needs_background": "light"
     },
     "output_type": "display_data"
    }
   ],
   "source": [
    "plt.rcParams['figure.figsize'] = (50,8)\n",
    "plt.bar(range(4096), [sorted_eigenvalues[0:i+1].sum()/np.sum(sorted_eigenvalues) * 100 for i, _ in enumerate(sorted_eigenvalues)], alpha=0.5)\n",
    "plt.scatter(range(4096), sorted_eigenvalues/np.sum(sorted_eigenvalues)*100, s=90)\n",
    "plt.axhline(95, c='r', ls='--')\n",
    "plt.xticks(range(4096), [f'PC{i}' for i in range(4096)])\n",
    "plt.ylabel('PVE (%)', fontsize=15)\n",
    "plt.tick_params('both', labelsize=15)"
   ]
  },
  {
   "cell_type": "code",
   "execution_count": 16,
   "metadata": {},
   "outputs": [
    {
     "data": {
      "text/plain": [
       "66.70788799832154"
      ]
     },
     "execution_count": 16,
     "metadata": {},
     "output_type": "execute_result"
    }
   ],
   "source": [
    "sorted_eigenvalues[0:100+1].sum()/np.sum(sorted_eigenvalues) * 100"
   ]
  },
  {
   "cell_type": "code",
   "execution_count": 17,
   "metadata": {},
   "outputs": [
    {
     "data": {
      "text/plain": [
       "95.00318759977964"
      ]
     },
     "execution_count": 17,
     "metadata": {},
     "output_type": "execute_result"
    }
   ],
   "source": [
    "sorted_eigenvalues[0:888+1].sum()/np.sum(sorted_eigenvalues) * 100"
   ]
  },
  {
   "cell_type": "code",
   "execution_count": 18,
   "metadata": {},
   "outputs": [
    {
     "data": {
      "text/plain": [
       "79.56460368065575"
      ]
     },
     "execution_count": 18,
     "metadata": {},
     "output_type": "execute_result"
    }
   ],
   "source": [
    "sorted_eigenvalues[0:250+1].sum()/np.sum(sorted_eigenvalues) * 100"
   ]
  },
  {
   "cell_type": "code",
   "execution_count": 19,
   "metadata": {},
   "outputs": [
    {
     "data": {
      "text/plain": [
       "72.3942588233053"
      ]
     },
     "execution_count": 19,
     "metadata": {},
     "output_type": "execute_result"
    }
   ],
   "source": [
    "sorted_eigenvalues[0:150+1].sum()/np.sum(sorted_eigenvalues) * 100"
   ]
  },
  {
   "cell_type": "code",
   "execution_count": null,
   "metadata": {},
   "outputs": [],
   "source": []
  }
 ],
 "metadata": {
  "interpreter": {
   "hash": "1ee71b2a6db0d2950e77713e5ec0375ec28161e0f84c6c3416ca97bf203ce59b"
  },
  "kernelspec": {
   "display_name": "Python 3.8.12 64-bit ('music-recommendation': conda)",
   "name": "python3"
  },
  "language_info": {
   "codemirror_mode": {
    "name": "ipython",
    "version": 3
   },
   "file_extension": ".py",
   "mimetype": "text/x-python",
   "name": "python",
   "nbconvert_exporter": "python",
   "pygments_lexer": "ipython3",
   "version": "3.8.12"
  },
  "orig_nbformat": 4
 },
 "nbformat": 4,
 "nbformat_minor": 2
}
